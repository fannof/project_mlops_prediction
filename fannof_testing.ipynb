{
 "cells": [
  {
   "cell_type": "code",
   "execution_count": 1,
   "id": "e2d3bd8d",
   "metadata": {},
   "outputs": [],
   "source": [
    "import pandas as pd\n",
    "import requests\n",
    "import json\n",
    "import base64\n",
    "import tensorflow as tf"
   ]
  },
  {
   "cell_type": "code",
   "execution_count": 2,
   "id": "0bf57120",
   "metadata": {},
   "outputs": [
    {
     "data": {
      "text/plain": [
       "{'gender': 'Male',\n",
       " 'age': 80.0,\n",
       " 'hypertension': 0,\n",
       " 'heart_disease': 0,\n",
       " 'ever_married': 'Yes',\n",
       " 'work_type': 'Private',\n",
       " 'Residence_type': 'Rural',\n",
       " 'avg_glucose_level': 259.63,\n",
       " 'bmi': 31.7,\n",
       " 'smoking_status': 'smokes'}"
      ]
     },
     "execution_count": 2,
     "metadata": {},
     "output_type": "execute_result"
    }
   ],
   "source": [
    "data = pd.read_csv('data/brain_stroke.csv')\n",
    "inputs = data.iloc[102, :10].to_dict()\n",
    "inputs"
   ]
  },
  {
   "cell_type": "code",
   "execution_count": 3,
   "id": "887df4ee",
   "metadata": {},
   "outputs": [
    {
     "data": {
      "text/plain": [
       "gender                  Male\n",
       "age                     80.0\n",
       "hypertension               0\n",
       "heart_disease              0\n",
       "ever_married             Yes\n",
       "work_type            Private\n",
       "Residence_type         Rural\n",
       "avg_glucose_level     259.63\n",
       "bmi                     31.7\n",
       "smoking_status        smokes\n",
       "stroke                     1\n",
       "Name: 102, dtype: object"
      ]
     },
     "execution_count": 3,
     "metadata": {},
     "output_type": "execute_result"
    }
   ],
   "source": [
    "data.iloc[102, :11]"
   ]
  },
  {
   "cell_type": "code",
   "execution_count": 4,
   "id": "c89fbaa6",
   "metadata": {},
   "outputs": [
    {
     "name": "stdout",
     "output_type": "stream",
     "text": [
      "Stroke\n"
     ]
    }
   ],
   "source": [
    "def prepare_json(inputs: dict):\n",
    "    feature_spec = dict()\n",
    "\n",
    "    for keys, values in inputs.items():\n",
    "        if isinstance(values, float):\n",
    "            feature_spec[keys] = tf.train.Feature(float_list=tf.train.FloatList(value=[values]))\n",
    "        elif isinstance(values, int):\n",
    "            feature_spec[keys] = tf.train.Feature(int64_list=tf.train.Int64List(value=[values]))\n",
    "        elif isinstance(values, str):\n",
    "            feature_spec[keys] = tf.train.Feature(bytes_list=tf.train.BytesList(value=[values.encode()]))\n",
    "\n",
    "    example = tf.train.Example(\n",
    "        features=tf.train.Features(feature=feature_spec)\n",
    "    ).SerializeToString()\n",
    "\n",
    "    result = [\n",
    "        {\n",
    "            \"examples\": {\n",
    "                \"b64\": base64.b64encode(example).decode()\n",
    "            }\n",
    "        }\n",
    "    ]\n",
    "\n",
    "    return json.dumps({\n",
    "        \"signature_name\": \"serving_default\",\n",
    "        \"instances\": result,\n",
    "    })\n",
    "\n",
    "json_data = prepare_json(inputs)\n",
    "\n",
    "endpoint = \"https://project-mlops-stroke-prediction-production.up.railway.app/v1/models/stroke-classification-model:predict\"\n",
    "response = requests.post(endpoint, data=json_data)\n",
    "\n",
    "prediction = response.json().get(\"predictions\")\n",
    "if prediction:\n",
    "    prediction_value = prediction[0][0]\n",
    "    result = \"No Stroke\" if prediction_value < 0.5 else \"Stroke\"\n",
    "else:\n",
    "    result = \"Error: No predictions found in response.\"\n",
    "\n",
    "print(result)"
   ]
  }
 ],
 "metadata": {
  "kernelspec": {
   "display_name": "mlops-stroke",
   "language": "python",
   "name": "mlops-stroke"
  },
  "language_info": {
   "codemirror_mode": {
    "name": "ipython",
    "version": 3
   },
   "file_extension": ".py",
   "mimetype": "text/x-python",
   "name": "python",
   "nbconvert_exporter": "python",
   "pygments_lexer": "ipython3",
   "version": "3.9.15"
  }
 },
 "nbformat": 4,
 "nbformat_minor": 5
}
